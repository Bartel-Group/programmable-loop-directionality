{
 "cells": [
  {
   "cell_type": "markdown",
   "id": "dedicated-walter",
   "metadata": {},
   "source": [
    "## Analyze Counterfactual Data"
   ]
  },
  {
   "cell_type": "code",
   "execution_count": 1,
   "id": "manual-humidity",
   "metadata": {},
   "outputs": [],
   "source": [
    "import os\n",
    "import joblib\n",
    "import matplotlib.pyplot as plt\n",
    "import pandas as pd\n",
    "import numpy as np\n",
    "import scipy.stats as st\n",
    "\n",
    "import xgboost\n",
    "from xgboost import XGBClassifier\n",
    "\n",
    "from sklearn.model_selection import (\n",
    "    StratifiedKFold,\n",
    "    RandomizedSearchCV,\n",
    "    train_test_split,\n",
    ")\n",
    "from sklearn.metrics import accuracy_score\n",
    "from sklearn.metrics import f1_score\n",
    "from sklearn.metrics import mean_squared_error\n",
    "    \n",
    "from sklearn.linear_model import LinearRegression"
   ]
  },
  {
   "cell_type": "code",
   "execution_count": 2,
   "id": "decreased-recipient",
   "metadata": {},
   "outputs": [],
   "source": [
    "def create_bar_plot(x_values, y_values, title=\"\", xlabel=\"\", ylabel=\"\", figname=\"\", color_idx=0):\n",
    "    colors = [\"#003f5c\", \"#bc5090\", \"#ffa600\"]\n",
    "    \n",
    "    fig = plt.figure(figsize=(6,4))\n",
    "    \n",
    "    plt.barh(x_values, y_values,color=colors[color_idx])\n",
    "    plt.title(title)\n",
    "    plt.xlabel(xlabel, fontsize=12)\n",
    "    #plt.xscale('log')\n",
    "    plt.ylabel(ylabel, fontsize=12)    \n",
    "    plt.tight_layout()\n",
    "    plt.savefig(figname, dpi=300)"
   ]
  },
  {
   "cell_type": "code",
   "execution_count": 3,
   "id": "pointed-thought",
   "metadata": {},
   "outputs": [],
   "source": [
    "data_dir = '/home/dauenha0/murp1677/Cyclic_Dynamics/Code/ML_repo/programmable-catalysis/dev/data/clf-op-counterfactuals/'\n",
    "cfs = os.path.join(data_dir, 'counterfactuals-neg-to-pos.csv')\n",
    "perturbations = os.path.join(data_dir, 'counterfactual-perturbations-neg-to-pos.csv')\n",
    "queries = os.path.join(data_dir, 'query-instances-neg-to-pos.csv')\n",
    "\n",
    "# load counterfactuals\n",
    "df_cfs = pd.read_csv(cfs)\n",
    "df_perturbations = pd.read_csv(perturbations)\n",
    "queries = pd.read_csv(queries)"
   ]
  },
  {
   "cell_type": "code",
   "execution_count": 12,
   "id": "welsh-river",
   "metadata": {},
   "outputs": [
    {
     "name": "stdout",
     "output_type": "stream",
     "text": [
      "          alpha-a   alpha-b   alpha-c    beta-a    beta-b    beta-c  \\\n",
      "0   -2.857143e-01 -0.285714 -0.285714 -0.541667 -0.555556 -0.763889   \n",
      "1   -2.142857e-01 -0.285714 -0.285714 -1.000000 -0.597222 -0.777778   \n",
      "2   -2.857143e-01 -0.285714 -0.285714 -0.851852 -0.527778 -0.944444   \n",
      "3   -7.936508e-02 -0.285714 -0.142857 -0.972222 -1.000000 -0.629630   \n",
      "4   -7.142857e-02  0.126984 -0.285714 -0.870370 -0.944444 -1.000000   \n",
      "..            ...       ...       ...       ...       ...       ...   \n",
      "245 -2.142857e-01 -0.285714 -0.285714 -0.972222 -0.944444 -0.574074   \n",
      "246 -2.857143e-01 -0.285714 -0.214286 -0.972222 -0.972222 -0.972222   \n",
      "247 -1.586033e-16 -0.285714 -0.071429 -1.000000 -0.944444 -1.000000   \n",
      "248 -2.857143e-01 -0.174603 -0.214286 -0.888889 -1.000000 -0.537037   \n",
      "249 -2.142857e-01 -0.214286 -0.142857 -1.000000 -0.537037 -0.574074   \n",
      "\n",
      "     gamma-b-a  gamma-c-a  delta-b-a  delta-c-a  change-in-bea  \n",
      "0    -0.287037  -0.315476  -0.500000      -0.32      -0.250000  \n",
      "1    -0.321429  -0.142857  -0.500000      -0.50      -0.320000  \n",
      "2    -0.369048  -0.500000  -0.246667      -0.50      -0.600000  \n",
      "3    -0.500000  -0.500000  -0.460000      -0.18      -0.600000  \n",
      "4    -0.337963  -0.500000  -0.500000      -0.50      -0.400000  \n",
      "..         ...        ...        ...        ...            ...  \n",
      "245  -0.452381  -0.500000  -0.410000      -0.41      -0.533333  \n",
      "246  -0.226190  -0.337963  -0.460000      -0.24      -0.600000  \n",
      "247  -0.452381  -0.486111  -0.480000      -0.32      -0.480000  \n",
      "248  -0.500000  -0.500000  -0.500000      -0.46      -0.440000  \n",
      "249   0.037037  -0.071429   0.113333      -0.44      -0.533333  \n",
      "\n",
      "[250 rows x 11 columns]\n"
     ]
    }
   ],
   "source": [
    "# Given feature_min and feature_max values\n",
    "feature_min = [0.2, 0.2, 0.2, 0.6, 0.6, 0.6, 0.6, 0.6, 0.5, 0.5, 0.3]\n",
    "feature_max = [0.9, 0.9, 0.9, 1.2, 1.2, 1.2, 1.8, 1.8, 1.5, 1.5, 0.8]\n",
    "\n",
    "# Function to normalize the DataFrame\n",
    "def normalize_perturbation_sets(df, feature_min, feature_max, new_min=0, new_max=1):\n",
    "    for i, column in enumerate(df.columns):\n",
    "        min_val = feature_min[i]\n",
    "        max_val = feature_max[i]\n",
    "        df[column] = new_min + (df[column] - min_val) * (new_max - new_min) / (max_val - min_val)\n",
    "    return df\n",
    "\n",
    "# Normalize the DataFrame\n",
    "pertubation_sets = df_perturbations\n",
    "\n",
    "normalized_perturbation_sets = normalize_perturbation_sets(perturbation_sets.copy(), feature_min, feature_max)\n",
    "print(normalized_perturbation_sets)\n"
   ]
  },
  {
   "cell_type": "code",
   "execution_count": 11,
   "id": "greek-despite",
   "metadata": {},
   "outputs": [
    {
     "name": "stdout",
     "output_type": "stream",
     "text": [
      "      alpha-a   alpha-b  alpha-c    beta-a    beta-b    beta-c  gamma-b-a  \\\n",
      "0    0.000000  0.000000     0.00  0.275000  0.266667  0.141667   0.255556   \n",
      "1    0.050000  0.000000     0.00  0.000000  0.241667  0.133333   0.214286   \n",
      "2    0.000000  0.000000     0.00  0.088889  0.283333  0.033333   0.157143   \n",
      "3    0.144444  0.000000     0.10  0.016667  0.000000  0.222222   0.000000   \n",
      "4    0.150000  0.288889     0.00  0.077778  0.033333  0.000000   0.194444   \n",
      "..        ...       ...      ...       ...       ...       ...        ...   \n",
      "245  0.050000  0.000000     0.00  0.016667  0.033333  0.255556   0.057143   \n",
      "246  0.000000  0.000000     0.05  0.016667  0.016667  0.016667   0.328571   \n",
      "247  0.200000  0.000000     0.15  0.000000  0.033333  0.000000   0.057143   \n",
      "248  0.000000  0.077778     0.05  0.066667  0.000000  0.277778   0.000000   \n",
      "249  0.050000  0.050000     0.10  0.000000  0.277778  0.255556   0.644444   \n",
      "\n",
      "     gamma-c-a  delta-b-a  delta-c-a  change-in-bea  \n",
      "0     0.221429   0.000000       0.18       0.175000  \n",
      "1     0.428571   0.000000       0.00       0.140000  \n",
      "2     0.000000   0.253333       0.00       0.000000  \n",
      "3     0.000000   0.040000       0.32       0.000000  \n",
      "4     0.000000   0.000000       0.00       0.100000  \n",
      "..         ...        ...        ...            ...  \n",
      "245   0.000000   0.090000       0.09       0.033333  \n",
      "246   0.194444   0.040000       0.26       0.000000  \n",
      "247   0.016667   0.020000       0.18       0.060000  \n",
      "248   0.000000   0.000000       0.04       0.080000  \n",
      "249   0.514286   0.613333       0.06       0.033333  \n",
      "\n",
      "[250 rows x 11 columns]\n"
     ]
    },
    {
     "ename": "TypeError",
     "evalue": "unsupported operand type(s) for -: 'str' and 'list'",
     "output_type": "error",
     "traceback": [
      "\u001b[0;31m---------------------------------------------------------------------------\u001b[0m",
      "\u001b[0;31mTypeError\u001b[0m                                 Traceback (most recent call last)",
      "Cell \u001b[0;32mIn[11], line 6\u001b[0m\n\u001b[1;32m      3\u001b[0m perturbation_sets \u001b[38;5;241m=\u001b[39m df_perturbations\n\u001b[1;32m      4\u001b[0m \u001b[38;5;28mprint\u001b[39m(perturbation_sets)\n\u001b[0;32m----> 6\u001b[0m normalized_sets \u001b[38;5;241m=\u001b[39m \u001b[43mnormalize_multiple_perturbations\u001b[49m\u001b[43m(\u001b[49m\u001b[43mperturbation_sets\u001b[49m\u001b[43m,\u001b[49m\u001b[43m \u001b[49m\u001b[43mfeature_min\u001b[49m\u001b[43m,\u001b[49m\u001b[43m \u001b[49m\u001b[43mfeature_max\u001b[49m\u001b[43m)\u001b[49m\n\u001b[1;32m      7\u001b[0m \u001b[38;5;28mprint\u001b[39m(normalized_sets)\n",
      "Cell \u001b[0;32mIn[5], line 5\u001b[0m, in \u001b[0;36mnormalize_multiple_perturbations\u001b[0;34m(perturbation_sets, feature_min, feature_max, new_min, new_max)\u001b[0m\n\u001b[1;32m      3\u001b[0m min_val \u001b[38;5;241m=\u001b[39m feature_min\n\u001b[1;32m      4\u001b[0m max_val \u001b[38;5;241m=\u001b[39m feature_max\n\u001b[0;32m----> 5\u001b[0m normalized_sets \u001b[38;5;241m=\u001b[39m [\n\u001b[1;32m      6\u001b[0m     [(new_min \u001b[38;5;241m+\u001b[39m (p \u001b[38;5;241m-\u001b[39m min_val) \u001b[38;5;241m*\u001b[39m (new_max \u001b[38;5;241m-\u001b[39m new_min) \u001b[38;5;241m/\u001b[39m (max_val \u001b[38;5;241m-\u001b[39m min_val)) \u001b[38;5;28;01mfor\u001b[39;00m p \u001b[38;5;129;01min\u001b[39;00m perturbations]\n\u001b[1;32m      7\u001b[0m     \u001b[38;5;28;01mfor\u001b[39;00m perturbations \u001b[38;5;129;01min\u001b[39;00m perturbation_sets\n\u001b[1;32m      8\u001b[0m ]\n\u001b[1;32m      9\u001b[0m \u001b[38;5;28;01mreturn\u001b[39;00m normalized_sets\n",
      "Cell \u001b[0;32mIn[5], line 6\u001b[0m, in \u001b[0;36m<listcomp>\u001b[0;34m(.0)\u001b[0m\n\u001b[1;32m      3\u001b[0m min_val \u001b[38;5;241m=\u001b[39m feature_min\n\u001b[1;32m      4\u001b[0m max_val \u001b[38;5;241m=\u001b[39m feature_max\n\u001b[1;32m      5\u001b[0m normalized_sets \u001b[38;5;241m=\u001b[39m [\n\u001b[0;32m----> 6\u001b[0m     [(new_min \u001b[38;5;241m+\u001b[39m (p \u001b[38;5;241m-\u001b[39m min_val) \u001b[38;5;241m*\u001b[39m (new_max \u001b[38;5;241m-\u001b[39m new_min) \u001b[38;5;241m/\u001b[39m (max_val \u001b[38;5;241m-\u001b[39m min_val)) \u001b[38;5;28;01mfor\u001b[39;00m p \u001b[38;5;129;01min\u001b[39;00m perturbations]\n\u001b[1;32m      7\u001b[0m     \u001b[38;5;28;01mfor\u001b[39;00m perturbations \u001b[38;5;129;01min\u001b[39;00m perturbation_sets\n\u001b[1;32m      8\u001b[0m ]\n\u001b[1;32m      9\u001b[0m \u001b[38;5;28;01mreturn\u001b[39;00m normalized_sets\n",
      "Cell \u001b[0;32mIn[5], line 6\u001b[0m, in \u001b[0;36m<listcomp>\u001b[0;34m(.0)\u001b[0m\n\u001b[1;32m      3\u001b[0m min_val \u001b[38;5;241m=\u001b[39m feature_min\n\u001b[1;32m      4\u001b[0m max_val \u001b[38;5;241m=\u001b[39m feature_max\n\u001b[1;32m      5\u001b[0m normalized_sets \u001b[38;5;241m=\u001b[39m [\n\u001b[0;32m----> 6\u001b[0m     [(new_min \u001b[38;5;241m+\u001b[39m (\u001b[43mp\u001b[49m\u001b[43m \u001b[49m\u001b[38;5;241;43m-\u001b[39;49m\u001b[43m \u001b[49m\u001b[43mmin_val\u001b[49m) \u001b[38;5;241m*\u001b[39m (new_max \u001b[38;5;241m-\u001b[39m new_min) \u001b[38;5;241m/\u001b[39m (max_val \u001b[38;5;241m-\u001b[39m min_val)) \u001b[38;5;28;01mfor\u001b[39;00m p \u001b[38;5;129;01min\u001b[39;00m perturbations]\n\u001b[1;32m      7\u001b[0m     \u001b[38;5;28;01mfor\u001b[39;00m perturbations \u001b[38;5;129;01min\u001b[39;00m perturbation_sets\n\u001b[1;32m      8\u001b[0m ]\n\u001b[1;32m      9\u001b[0m \u001b[38;5;28;01mreturn\u001b[39;00m normalized_sets\n",
      "\u001b[0;31mTypeError\u001b[0m: unsupported operand type(s) for -: 'str' and 'list'"
     ]
    }
   ],
   "source": [
    "feature_names = df_perturbations.mean().index.tolist()\n",
    "# mean_values = df_perturbations.mean().tolist()\n",
    "perturbation_sets = df_perturbations\n",
    "print(perturbation_sets)\n",
    "\n",
    "normalized_sets = normalize_multiple_perturbations(perturbation_sets, feature_min, feature_max)\n",
    "print(normalized_sets)\n",
    "\n",
    "#create_bar_plot(feature_names, mean_values, title=None, ylabel=\"Feature\", \n",
    "#               xlabel=\"Mean Perturbation to Feature\", figname=\"clf-op-mean-perturbations-neg-to-pos.tiff\", color_idx=2)"
   ]
  },
  {
   "cell_type": "code",
   "execution_count": 14,
   "id": "mental-circumstances",
   "metadata": {},
   "outputs": [],
   "source": [
    "# Dictionary to store the count of changes for each feature across all queries\n",
    "feature_changes = {}\n",
    "\n",
    "# Iterate through each query\n",
    "for i in range(len(queries)):\n",
    "    # Extract the original query and counterfactuals as dictionaries\n",
    "    original_query = queries[i:i+1].to_dict('records')[0]\n",
    "    counterfactuals = df_cfs[i*10:i*10+10].to_dict('records')\n",
    "    \n",
    "    # Initialize feature_changes for the current query\n",
    "    if i not in feature_changes:\n",
    "        feature_changes[i] = {feature: 0 for feature in original_query}\n",
    "    \n",
    "    # Iterate through each counterfactual\n",
    "    for counterfactual in counterfactuals:\n",
    "        # Compare each feature in the original query with the corresponding feature in the counterfactual\n",
    "        for feature, value in original_query.items():\n",
    "            if counterfactual[feature] != value:\n",
    "                # If the feature value is different in the counterfactual, increment the change count for that feature\n",
    "                feature_changes[i][feature] += 1\n"
   ]
  },
  {
   "cell_type": "code",
   "execution_count": 15,
   "id": "juvenile-match",
   "metadata": {},
   "outputs": [
    {
     "data": {
      "image/png": "[encoded data removed]",
      "text/plain": [
       "<Figure size 600x400 with 1 Axes>"
      ]
     },
     "metadata": {},
     "output_type": "display_data"
    }
   ],
   "source": [
    "# Sum up all the changes for each feature across all queries\n",
    "total_changes = {feature: sum(changes[feature] for changes in feature_changes.values()) for feature in feature_changes[0]}\n",
    "\n",
    "feature_names = list(total_changes.keys())\n",
    "num_changes = list(total_changes.values())\n",
    "\n",
    "create_bar_plot(feature_names, num_changes, title=\"\", xlabel=\"Number Changes to Each Feature\", \n",
    "                ylabel=\"Feature\", figname=\"clf-op-num-changes-zero-to-pos.tiff\")"
   ]
  },
  {
   "cell_type": "code",
   "execution_count": 27,
   "id": "damaged-pittsburgh",
   "metadata": {},
   "outputs": [
    {
     "name": "stdout",
     "output_type": "stream",
     "text": [
      "Total changes for feature 'alpha-a': 324\n",
      "Total changes for feature 'alpha-b': 330\n",
      "Total changes for feature 'alpha-c': 321\n",
      "Total changes for feature 'beta-a': 813\n",
      "Total changes for feature 'beta-b': 905\n",
      "Total changes for feature 'beta-c': 781\n",
      "Total changes for feature 'gamma-b-a': 622\n",
      "Total changes for feature 'gamma-c-a': 621\n",
      "Total changes for feature 'delta-b-a': 533\n",
      "Total changes for feature 'delta-c-a': 484\n",
      "Total changes for feature 'change-in-bea': 319\n"
     ]
    }
   ],
   "source": [
    "# Sum up all the changes for each feature across all queries\n",
    "total_changes = {feature: sum(changes[feature] for changes in feature_changes.values()) for feature in feature_changes[0]}\n",
    "\n",
    "# Print the total count of changes for each feature across all queries\n",
    "for feature, count in total_changes.items():\n",
    "    print(f\"Total changes for feature '{feature}': {count}\")"
   ]
  }
 ],
 "metadata": {
  "kernelspec": {
   "display_name": "Python3.10",
   "language": "python",
   "name": "python3.10"
  },
  "language_info": {
   "codemirror_mode": {
    "name": "ipython",
    "version": 3
   },
   "file_extension": ".py",
   "mimetype": "text/x-python",
   "name": "python",
   "nbconvert_exporter": "python",
   "pygments_lexer": "ipython3",
   "version": "3.10.9"
  }
 },
 "nbformat": 4,
 "nbformat_minor": 5
}
