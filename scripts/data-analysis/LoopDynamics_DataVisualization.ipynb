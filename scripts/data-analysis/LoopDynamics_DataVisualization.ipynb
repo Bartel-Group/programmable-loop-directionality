{
 "cells": [
  {
   "cell_type": "markdown",
   "id": "established-defendant",
   "metadata": {},
   "source": [
    "## Plot a Histogram of all the loop TOF outputs\n",
    "\n",
    "Jupyter notebook used to generate Figure 2 and 3 to depict the distribution of the loop turnover frequencies in the final datset.\n",
    "\n",
    "Last updated: May 8, 2024\n",
    " by Madeline Murphy"
   ]
  },
  {
   "cell_type": "code",
   "execution_count": null,
   "id": "finnish-taylor",
   "metadata": {},
   "outputs": [],
   "source": [
    "import Pkg\n",
    "Pkg.add(\"Printf\")\n",
    "Pkg.add(\"CSV\")\n",
    "Pkg.add(\"DataFrames\")\n",
    "Pkg.add(\"NBInclude\")\n",
    "\n",
    "ENV[\"PYTHON\"]=\"\"\n",
    "Pkg.build(\"PyCall\")\n",
    "\n",
    "Pkg.add(\"PyPlot\")\n",
    "Pkg.update(\"PyCall\")\n",
    "Pkg.update(\"PyPlot\")"
   ]
  },
  {
   "cell_type": "code",
   "execution_count": null,
   "id": "northern-louisville",
   "metadata": {},
   "outputs": [],
   "source": [
    "using Printf, CSV, DataFrames, NBInclude, PyPlot"
   ]
  },
  {
   "cell_type": "code",
   "execution_count": null,
   "id": "silent-rapid",
   "metadata": {},
   "outputs": [],
   "source": [
    "# Include DataVis.ipynb function\n",
    "@nbinclude(\"DataVis.ipynb\")"
   ]
  },
  {
   "cell_type": "code",
   "execution_count": null,
   "id": "specialized-malawi",
   "metadata": {},
   "outputs": [],
   "source": [
    "# import data\n",
    "filepath = \"/home/dauenha0/murp1677/Cyclic_Dynamics/Code/ML_repo/programmable-catalysis/dev/data/csvs/240313_rc_steady.csv\"\n",
    "df = CSV.read(filepath, DataFrame)\n",
    "\n",
    "loopTOF = Matrix(df[:,12:12])\n",
    "delbea = Matrix(df[:,11:11])"
   ]
  },
  {
   "cell_type": "code",
   "execution_count": null,
   "id": "included-protest",
   "metadata": {},
   "outputs": [],
   "source": [
    "# Figure 2a\n",
    "println((174312-length(loopTOF))/174312)\n",
    "println((length(loopTOF))/174312)\n",
    "\n",
    "Plot_Histogram(loopTOF)\n",
    "plt.savefig(\"20240514_LoopTOF_Histogram_logscale.tiff\")\n"
   ]
  },
  {
   "cell_type": "code",
   "execution_count": null,
   "id": "detected-polymer",
   "metadata": {},
   "outputs": [],
   "source": [
    "# Figure 2b\n",
    "Pie_Plot_simple(loopTOF)\n",
    "plt.savefig(\"20240514_LoopTOF_PiePlot.tiff\")"
   ]
  },
  {
   "cell_type": "code",
   "execution_count": null,
   "id": "professional-passenger",
   "metadata": {},
   "outputs": [],
   "source": [
    "# Figure 3a\n",
    "Plot_Histogram_withcolor(loopTOF, delbea)\n",
    "plt.savefig(\"20240514_LoopTOF_Histogram_with_delbea.tiff\")\n",
    "\n",
    "println((174312-length(loopTOF))/174312)"
   ]
  },
  {
   "cell_type": "code",
   "execution_count": null,
   "id": "verbal-routine",
   "metadata": {},
   "outputs": [],
   "source": [
    "# Figure 3b\n",
    "\n",
    "Plot_zero_bea(loopTOF, delbea)\n",
    "\n",
    "plt.savefig(\"20240514_delBEa_zero_tof.tiff\")"
   ]
  },
  {
   "cell_type": "code",
   "execution_count": null,
   "id": "portable-potter",
   "metadata": {},
   "outputs": [],
   "source": []
  }
 ],
 "metadata": {
  "kernelspec": {
   "display_name": "Julia 1.9.0",
   "language": "julia",
   "name": "julia-1.9"
  },
  "language_info": {
   "file_extension": ".jl",
   "mimetype": "application/julia",
   "name": "julia",
   "version": "1.9.0"
  }
 },
 "nbformat": 4,
 "nbformat_minor": 5
}
