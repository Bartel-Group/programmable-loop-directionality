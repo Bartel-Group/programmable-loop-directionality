{
 "cells": [
  {
   "cell_type": "markdown",
   "id": "funky-allocation",
   "metadata": {},
   "source": [
    "#### Aggregating csv files into one file\n",
    "\n",
    "aggregate_csv_files reads all the files from the input_dir and rights the results to an output_file\n",
    "\n",
    "includes cells to separate steady-state and non steady-state data and find parameters to re-run\n",
    "\n",
    "Last updated March 13, 2024 by Madeline Murphy"
   ]
  },
  {
   "cell_type": "code",
   "execution_count": 10,
   "id": "exact-digest",
   "metadata": {},
   "outputs": [
    {
     "name": "stderr",
     "output_type": "stream",
     "text": [
      "\u001b[32m\u001b[1m    Updating\u001b[22m\u001b[39m registry at `~/.julia/registries/General.toml`\n",
      "\u001b[32m\u001b[1m   Resolving\u001b[22m\u001b[39m package versions...\n",
      "\u001b[32m\u001b[1m  No Changes\u001b[22m\u001b[39m to `/panfs/jay/groups/16/dauenha0/murp1677/.julia/environments/v1.9/Project.toml`\n",
      "\u001b[32m\u001b[1m  No Changes\u001b[22m\u001b[39m to `/panfs/jay/groups/16/dauenha0/murp1677/.julia/environments/v1.9/Manifest.toml`\n",
      "\u001b[32m\u001b[1m   Resolving\u001b[22m\u001b[39m package versions...\n",
      "\u001b[32m\u001b[1m  No Changes\u001b[22m\u001b[39m to `/panfs/jay/groups/16/dauenha0/murp1677/.julia/environments/v1.9/Project.toml`\n",
      "\u001b[32m\u001b[1m  No Changes\u001b[22m\u001b[39m to `/panfs/jay/groups/16/dauenha0/murp1677/.julia/environments/v1.9/Manifest.toml`\n",
      "\u001b[32m\u001b[1m   Resolving\u001b[22m\u001b[39m package versions...\n",
      "\u001b[32m\u001b[1m  No Changes\u001b[22m\u001b[39m to `/panfs/jay/groups/16/dauenha0/murp1677/.julia/environments/v1.9/Project.toml`\n",
      "\u001b[32m\u001b[1m  No Changes\u001b[22m\u001b[39m to `/panfs/jay/groups/16/dauenha0/murp1677/.julia/environments/v1.9/Manifest.toml`\n",
      "\u001b[32m\u001b[1m   Resolving\u001b[22m\u001b[39m package versions...\n",
      "\u001b[32m\u001b[1m  No Changes\u001b[22m\u001b[39m to `/panfs/jay/groups/16/dauenha0/murp1677/.julia/environments/v1.9/Project.toml`\n",
      "\u001b[32m\u001b[1m  No Changes\u001b[22m\u001b[39m to `/panfs/jay/groups/16/dauenha0/murp1677/.julia/environments/v1.9/Manifest.toml`\n",
      "\u001b[32m\u001b[1m   Resolving\u001b[22m\u001b[39m package versions...\n",
      "\u001b[32m\u001b[1m  No Changes\u001b[22m\u001b[39m to `/panfs/jay/groups/16/dauenha0/murp1677/.julia/environments/v1.9/Project.toml`\n",
      "\u001b[32m\u001b[1m  No Changes\u001b[22m\u001b[39m to `/panfs/jay/groups/16/dauenha0/murp1677/.julia/environments/v1.9/Manifest.toml`\n"
     ]
    }
   ],
   "source": [
    "import Pkg\n",
    "\n",
    "Pkg.add(\"CSV\")\n",
    "Pkg.add(\"DataFrames\")\n",
    "Pkg.add(\"Printf\")\n",
    "Pkg.add(\"FileIO\")\n",
    "Pkg.add(\"NBInclude\")"
   ]
  },
  {
   "cell_type": "code",
   "execution_count": 1,
   "id": "productive-postcard",
   "metadata": {},
   "outputs": [],
   "source": [
    "using CSV, DataFrames, Printf, FileIO, NBInclude"
   ]
  },
  {
   "cell_type": "code",
   "execution_count": 2,
   "id": "entertaining-butler",
   "metadata": {},
   "outputs": [],
   "source": [
    "@nbinclude(\"/home/dauenha0/murp1677/Cyclic_Dynamics/Code/Non-Git/RxnParameters.ipynb\");"
   ]
  },
  {
   "cell_type": "code",
   "execution_count": 3,
   "id": "stretch-demonstration",
   "metadata": {},
   "outputs": [
    {
     "data": {
      "text/plain": [
       "aggregate_csv_files (generic function with 1 method)"
      ]
     },
     "execution_count": 3,
     "metadata": {},
     "output_type": "execute_result"
    }
   ],
   "source": [
    "function aggregate_csv_files(input_dir, output_file)\n",
    "    # Get a list of CSV files in the directory\n",
    "    csv_files = filter(x -> occursin(r\"\\.csv$\", x), readdir(input_dir))\n",
    "\n",
    "    # Iterate over each CSV file\n",
    "    for file in csv_files\n",
    "        # read date from the csv file\n",
    "        data = CSV.read(joinpath(input_dir, file), DataFrame)\n",
    "\n",
    "        # Write the contents to the output CSV file\n",
    "        if isfile(output_file) == false\n",
    "            # If the file does not exst, write the file including column names\n",
    "            col_names = [\"Batch ID\",\"Simulation ID\", \"alpha a\", \"alpha b\", \"alpha c\", \"beta a\", \"beta b\", \n",
    "                \"beta c\", \"gamma B-A\", \"gamma C-A\", \"delta B-A\", \"delta C-A\", \"BEa\", \"frequency [1/s]\", \n",
    "                \"ΔBEa [eV]\", \"Loop TOF [1/s]\",\"Steady State Conditon\"]; # 17 columns\n",
    "            CSV.write(output_file, data, header=col_names)\n",
    "        else    \n",
    "            CSV.write(output_file, data, append=true)\n",
    "        end\n",
    "        \n",
    "        # Delete the CSV file\n",
    "        # rm(joinpath(input_dir, file))\n",
    "    end\n",
    "end"
   ]
  },
  {
   "cell_type": "code",
   "execution_count": 6,
   "id": "magnetic-nursery",
   "metadata": {},
   "outputs": [
    {
     "name": "stdout",
     "output_type": "stream",
     "text": [
      "set 1 done.\n",
      "set 2 done.\n"
     ]
    }
   ],
   "source": [
    "input_dir = \"/home/dauenha0/murp1677/Cyclic_Dynamics/Results/SimulationOutputSet1\"\n",
    "output_file = \"/home/dauenha0/murp1677/Cyclic_Dynamics/Results/Set1_Simulation_outputs.csv\"\n",
    "\n",
    "aggregate_csv_files(input_dir, output_file)\n",
    "println(\"set 1 done.\")\n",
    "\n",
    "input_dir = \"/home/dauenha0/murp1677/Cyclic_Dynamics/Results/SimulationOutputSet2\"\n",
    "output_file = \"/home/dauenha0/murp1677/Cyclic_Dynamics/Results/Set2_Simulation_outputs.csv\"\n",
    "\n",
    "aggregate_csv_files(input_dir, output_file)\n",
    "println(\"set 2 done.\")"
   ]
  },
  {
   "cell_type": "code",
   "execution_count": 7,
   "id": "expired-economy",
   "metadata": {},
   "outputs": [
    {
     "name": "stdout",
     "output_type": "stream",
     "text": [
      "[1.0, 0.2, 0.2, 0.2, 0.6, 0.6, 0.6, 0.6, 0.6, 0.5, 0.5, 0.8, 50.0, 0.3, 0.05797767833709657, 1.0]\n"
     ]
    }
   ],
   "source": [
    "# Load Set 1\n",
    "fileName = \"/home/dauenha0/murp1677/Cyclic_Dynamics/Results/Set1_Simulation_outputs.csv\"\n",
    "df_set1 = CSV.read(fileName, DataFrame)\n",
    "df_array_set1 = Matrix(df_set1)\n",
    "\n",
    "# Load Set 2\n",
    "fileName = \"/home/dauenha0/murp1677/Cyclic_Dynamics/Results/Set2_Simulation_outputs.csv\"\n",
    "df_set2 = CSV.read(fileName, DataFrame)\n",
    "df_array_set2 = Matrix(df_set2)\n",
    "\n",
    "# Preallocate Array\n",
    "len = size(df_array_set1, 1) + size(df_array_set2, 1)\n",
    "combined_array = Matrix{Float64}(undef, len, 16)\n",
    "\n",
    "\n",
    "# Loop through Set 1\n",
    "for i in 1:size(df_array_set1, 1)\n",
    "    SimID = (df_array_set1[i, 1]-1) *60 + df_array_set1[i, 2]  # Convert to Int64\n",
    "    \n",
    "    if df_array_set1[i, 16] == \"Not-defined\"\n",
    "        SS_indicator = 0.0\n",
    "        loopTOF = 0.0\n",
    "        else\n",
    "        SS_indicator = 1.0\n",
    "        loopTOF = parse(Float64, df_array_set1[i, 16])\n",
    "        \n",
    "    end\n",
    "    combined_array[i, :] = vcat(SimID, df_array_set1[i, 3:15], loopTOF, SS_indicator)\n",
    "end\n",
    "\n",
    "# Loop through Set 2\n",
    "for i in 1:size(df_array_set2, 1)\n",
    "    SimID = (df_array_set2[i, 1]-1) *60 + df_array_set2[i, 2] + 90000  # Convert to Int64\n",
    "    if df_array_set2[i, 16] == \"Not-defined\"\n",
    "        SS_indicator = 0.0\n",
    "        loopTOF = 0.0\n",
    "        else\n",
    "        SS_indicator = 1.0\n",
    "        loopTOF = parse(Float64, df_array_set2[i, 16])\n",
    "    end\n",
    "    combined_array[i + size(df_array_set1, 1), :] = vcat(SimID, df_array_set2[i, 3:15], loopTOF, SS_indicator)\n",
    "end\n",
    "\n",
    "# Get permutation indices based on the first column\n",
    "perm_indices = sortperm(combined_array[:, 1])\n",
    "\n",
    "# Sort the matrix using the permutation indices\n",
    "sorted_array = combined_array[perm_indices, :]\n",
    "\n",
    "# Convert sim ID to a integer\n",
    "convert.(Int64, sorted_array[:,1])\n",
    "\n",
    "println(sorted_array[1,:])"
   ]
  },
  {
   "cell_type": "code",
   "execution_count": 10,
   "id": "growing-skill",
   "metadata": {},
   "outputs": [
    {
     "data": {
      "text/plain": [
       "delete_duplicates_new (generic function with 1 method)"
      ]
     },
     "execution_count": 10,
     "metadata": {},
     "output_type": "execute_result"
    }
   ],
   "source": [
    "function delete_duplicates(matrix)\n",
    "    Sim_ID = matrix[:, 1]\n",
    "    n = length(Sim_ID)\n",
    "    \n",
    "    Sim_ID_unique = Set{eltype(Sim_ID)}()  # Preallocate Set\n",
    "    unique_matrix = Matrix{eltype(matrix)}(undef, 0, size(matrix, 2))  # Preallocate matrix\n",
    "\n",
    "    for i in 1:n\n",
    "        if !(Sim_ID[i] in Sim_ID_unique)\n",
    "            push!(Sim_ID_unique, Sim_ID[i])\n",
    "            unique_matrix = vcat(unique_matrix, matrix[i, :]')\n",
    "        end\n",
    "    end\n",
    "    \n",
    "    return unique_matrix\n",
    "end\n"
   ]
  },
  {
   "cell_type": "code",
   "execution_count": 11,
   "id": "powerful-literature",
   "metadata": {},
   "outputs": [
    {
     "name": "stdout",
     "output_type": "stream",
     "text": [
      "(174312, 16)\n",
      "[1.0, 2.0, 3.0, 4.0, 5.0, 6.0, 7.0, 8.0, 9.0, 10.0]\n"
     ]
    }
   ],
   "source": [
    "unique_matrix_refined = delete_duplicates(unique_matrix)\n",
    "println(size(unique_matrix_refined))\n",
    "\n",
    "println(unique_matrix_refined[1:10,1])"
   ]
  },
  {
   "cell_type": "code",
   "execution_count": 12,
   "id": "labeled-appointment",
   "metadata": {},
   "outputs": [
    {
     "data": {
      "text/plain": [
       "\"/home/dauenha0/murp1677/Cyclic_Dynamics/Results/2024-03-13_ALL_Simulation_outputs.csv\""
      ]
     },
     "execution_count": 12,
     "metadata": {},
     "output_type": "execute_result"
    }
   ],
   "source": [
    "unique_df = DataFrame(unique_matrix_refined, :auto) \n",
    "\n",
    "fpathSS = \"/home/dauenha0/murp1677/Cyclic_Dynamics/Results/2024-03-13_ALL_Simulation_outputs.csv\"\n",
    "if isfile(fpathSS) == false # checks if file exists\n",
    "    # if file does NOT exist, write file and include column names\n",
    "    col_names = [\"Simulation ID\", \"alpha a\", \"alpha b\", \"alpha c\", \"beta a\", \"beta b\", \"beta c\", \"gamma B-A\", \"gamma C-A\", \"delta B-A\", \"delta C-A\", \"BEa\", \"frequency [1/s]\", \"ΔBEa [eV]\", \"Loop TOF [1/s]\",\"Steady State Conditon\"];\n",
    "    CSV.write(fpathSS, unique_df, header=col_names)\n",
    "else \n",
    "    CSV.write(fpathSS, unique_df, append=true)\n",
    "end"
   ]
  },
  {
   "cell_type": "markdown",
   "id": "af601575",
   "metadata": {},
   "source": [
    "### Export results with rate constants as parameters"
   ]
  },
  {
   "cell_type": "code",
   "execution_count": 13,
   "id": "guided-complex",
   "metadata": {},
   "outputs": [
    {
     "data": {
      "text/plain": [
       "\"/home/dauenha0/murp1677/Cyclic_Dynamics/Results/2024-03-13_ALL_Simulation_outputs_RATECONSTANTS.csv\""
      ]
     },
     "execution_count": 13,
     "metadata": {},
     "output_type": "execute_result"
    }
   ],
   "source": [
    "# Parse Data\n",
    "loopTOF = unique_df[:,15];\n",
    "len = length(loopTOF)\n",
    "\n",
    "# Preallocate Arrays \n",
    "alpha = Matrix{Float64}(undef,len,3)\n",
    "beta = Matrix{Float64}(undef,len,3)\n",
    "gamma = Matrix{Float64}(undef,len,2)\n",
    "delta = Matrix{Float64}(undef,len,2)\n",
    "\n",
    "alpha[:,1] = unique_df[:,2];\n",
    "alpha[:,2] = unique_df[:,3];\n",
    "alpha[:,3] = unique_df[:,4];\n",
    "\n",
    "beta[:,1] = unique_df[:,5];\n",
    "beta[:,2] = unique_df[:,6];\n",
    "beta[:,3] = unique_df[:,7];\n",
    "\n",
    "gamma[:,1] = unique_df[:,8];\n",
    "gamma[:,2] = unique_df[:,9];\n",
    "\n",
    "delta[:,1] = unique_df[:,10];\n",
    "delta[:,2] = unique_df[:,11];\n",
    "\n",
    "BEa = unique_df[:,12];\n",
    "delBEa = unique_df[:,14];\n",
    "freq = unique_df[:,13];\n",
    "SimID = unique_df[:,1];\n",
    "SS_cond = unique_df[:,16];\n",
    "\n",
    "# define each state\n",
    "k1 = Matrix{Float64}(undef,len,6)\n",
    "k2 = Matrix{Float64}(undef,len,6)\n",
    "\n",
    "for i in range(1,len)\n",
    "    # State 1\n",
    "    kf1, kr1, BE1 = RxnParametersArray(BEa[i], gamma[i,:], delta[i,:], alpha[i,:], beta[i,:]);\n",
    "    \n",
    "    # State 2\n",
    "    kf2, kr2, BE2 = RxnParametersArray((BEa[i]+delBEa[i]), gamma[i,:], delta[i,:], alpha[i,:], beta[i,:]);\n",
    "    \n",
    "    k1[i,:] = vcat(kf1,kr1)\n",
    "    k2[i,:] = vcat(kf2,kr2)\n",
    "end\n",
    "\n",
    "rate_df = DataFrame(SimID = SimID, kf1_1 = k1[:,1], kf2_1 = k1[:,2], kf3_1 = k1[:,3], \n",
    "    kr1_1 = k1[:,4], kr2_1 = k1[:,5], kr3_1 = k1[:,6], kf1_2 = k2[:,1], kf2_2 = k2[:,2],\n",
    "    kf3_2 = k2[:,3], kr1_2 = k2[:,4], kr2_2 = k2[:,5], kr3_2 = k2[:,6], frequency = freq, \n",
    "    ΔBEa = delBEa, Loop_TOF = loopTOF, Steady_State = SS_cond)\n",
    "\n",
    "fpath = \"/home/dauenha0/murp1677/Cyclic_Dynamics/Results/2024-03-13_ALL_Simulation_outputs_RATECONSTANTS.csv\"\n",
    "if isfile(fpath) == false # checks if file exists\n",
    "    # if file does NOT exist, write file and include column names\n",
    "    col_names = [\"Simulation ID\", \"k1 state 1\", \"k2 state 1\", \"k3 state 1\", \"k-1 state 1\", \"k-2 state 1\", \n",
    "        \"k-3 state 1\", \"k1 state 2\", \"k2 state 2\", \"k3 state 2\", \"k-1 state 2\", \"k-2 state 2\", \n",
    "        \"k-3 state 2\", \"frequency [1/s]\", \"ΔBEa [eV]\", \"Loop TOF [1/s]\",\"Steady State Conditon\"];\n",
    "    CSV.write(fpath, rate_df, header=col_names)\n",
    "else \n",
    "    CSV.write(fpath, rate_df, append=true)\n",
    "end"
   ]
  }
 ],
 "metadata": {
  "kernelspec": {
   "display_name": "Julia 1.9.0",
   "language": "julia",
   "name": "julia-1.9"
  },
  "language_info": {
   "file_extension": ".jl",
   "mimetype": "application/julia",
   "name": "julia",
   "version": "1.9.0"
  }
 },
 "nbformat": 4,
 "nbformat_minor": 5
}
