{
 "cells": [
  {
   "cell_type": "markdown",
   "id": "crazy-chicken",
   "metadata": {},
   "source": [
    "## Analyze Counterfactual Data"
   ]
  },
  {
   "cell_type": "code",
   "execution_count": 4,
   "id": "empty-associate",
   "metadata": {},
   "outputs": [],
   "source": [
    "import os\n",
    "import joblib\n",
    "import matplotlib.pyplot as plt\n",
    "import pandas as pd\n",
    "import numpy as np\n",
    "import scipy.stats as st\n",
    "\n",
    "import xgboost\n",
    "from xgboost import XGBClassifier\n",
    "\n",
    "from sklearn.model_selection import (\n",
    "    StratifiedKFold,\n",
    "    RandomizedSearchCV,\n",
    "    train_test_split,\n",
    ")\n",
    "from sklearn.metrics import accuracy_score\n",
    "from sklearn.metrics import f1_score\n",
    "from sklearn.metrics import mean_squared_error\n",
    "    \n",
    "from sklearn.linear_model import LinearRegression"
   ]
  },
  {
   "cell_type": "code",
   "execution_count": 13,
   "id": "respiratory-jesus",
   "metadata": {},
   "outputs": [],
   "source": [
    "data_dir = os.path.join('..', '..', 'data', 'csvs')\n",
    "cfs = os.path.join(data_dir, 'counterfactuals-1-to-2.csv')\n",
    "perturbations = os.path.join(data_dir, 'counterfactual-perturbations-1-to-2.csv')\n",
    "queries = os.path.join(data_dir, 'query-instances-1-to-2.csv')\n",
    "\n",
    "# load counterfactuals\n",
    "df_cfs = pd.read_csv(cfs)\n",
    "df_perturbations = pd.read_csv(perturbations)\n",
    "queries = pd.read_csv(queries)"
   ]
  },
  {
   "cell_type": "code",
   "execution_count": 14,
   "id": "recorded-construction",
   "metadata": {},
   "outputs": [
    {
     "data": {
      "text/plain": [
       "alpha-a          0.126120\n",
       "alpha-b          0.130757\n",
       "alpha-c          0.121163\n",
       "beta-a           0.056856\n",
       "beta-b           0.062923\n",
       "beta-c           0.068596\n",
       "gamma-b-a        0.137744\n",
       "gamma-c-a        0.132972\n",
       "delta-b-a        0.125730\n",
       "delta-c-a        0.138966\n",
       "change-in-bea    0.065016\n",
       "dtype: float64"
      ]
     },
     "execution_count": 14,
     "metadata": {},
     "output_type": "execute_result"
    }
   ],
   "source": [
    "df_perturbations.mean()"
   ]
  },
  {
   "cell_type": "code",
   "execution_count": 15,
   "id": "desirable-batman",
   "metadata": {},
   "outputs": [],
   "source": [
    "# Dictionary to store the count of changes for each feature across all queries\n",
    "feature_changes = {}\n",
    "\n",
    "# Iterate through each query\n",
    "for i in range(len(queries)):\n",
    "    # Extract the original query and counterfactuals as dictionaries\n",
    "    original_query = queries[i:i+1].to_dict('records')[0]\n",
    "    counterfactuals = df_cfs[i*10:i*10+10].to_dict('records')\n",
    "    \n",
    "    # Initialize feature_changes for the current query\n",
    "    if i not in feature_changes:\n",
    "        feature_changes[i] = {feature: 0 for feature in original_query}\n",
    "    \n",
    "    # Iterate through each counterfactual\n",
    "    for counterfactual in counterfactuals:\n",
    "        # Compare each feature in the original query with the corresponding feature in the counterfactual\n",
    "        for feature, value in original_query.items():\n",
    "            if counterfactual[feature] != value:\n",
    "                # If the feature value is different in the counterfactual, increment the change count for that feature\n",
    "                feature_changes[i][feature] += 1\n"
   ]
  },
  {
   "cell_type": "code",
   "execution_count": 16,
   "id": "sensitive-affair",
   "metadata": {},
   "outputs": [
    {
     "name": "stdout",
     "output_type": "stream",
     "text": [
      "Total changes for feature 'alpha-a': 5860\n",
      "Total changes for feature 'alpha-b': 5993\n",
      "Total changes for feature 'alpha-c': 5238\n",
      "Total changes for feature 'beta-a': 4331\n",
      "Total changes for feature 'beta-b': 4622\n",
      "Total changes for feature 'beta-c': 5120\n",
      "Total changes for feature 'gamma-b-a': 6008\n",
      "Total changes for feature 'gamma-c-a': 6039\n",
      "Total changes for feature 'delta-b-a': 5018\n",
      "Total changes for feature 'delta-c-a': 5251\n",
      "Total changes for feature 'change-in-bea': 3370\n"
     ]
    }
   ],
   "source": [
    "# Sum up all the changes for each feature across all queries\n",
    "total_changes = {feature: sum(changes[feature] for changes in feature_changes.values()) for feature in feature_changes[0]}\n",
    "\n",
    "# Print the total count of changes for each feature across all queries\n",
    "for feature, count in total_changes.items():\n",
    "    print(f\"Total changes for feature '{feature}': {count}\")"
   ]
  },
  {
   "cell_type": "markdown",
   "id": "a7af3be5",
   "metadata": {},
   "source": []
  },
  {
   "cell_type": "code",
   "execution_count": null,
   "id": "specified-schedule",
   "metadata": {},
   "outputs": [],
   "source": []
  }
 ],
 "metadata": {
  "kernelspec": {
   "display_name": "xgb",
   "language": "python",
   "name": "python3"
  },
  "language_info": {
   "codemirror_mode": {
    "name": "ipython",
    "version": 3
   },
   "file_extension": ".py",
   "mimetype": "text/x-python",
   "name": "python",
   "nbconvert_exporter": "python",
   "pygments_lexer": "ipython3",
   "version": "3.9.18"
  }
 },
 "nbformat": 4,
 "nbformat_minor": 5
}
