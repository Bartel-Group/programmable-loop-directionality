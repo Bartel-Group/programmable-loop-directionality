{
 "cells": [
  {
   "cell_type": "markdown",
   "id": "attractive-serial",
   "metadata": {},
   "source": [
    "## Reactions Parameters\n",
    "\n",
    "Functions called upon to compute the reaction parameters of a system based on their input parameters\n",
    "\n",
    "Last updated May 8, 2024 by Madeline Murphy"
   ]
  },
  {
   "cell_type": "code",
   "execution_count": 1,
   "id": "earned-rugby",
   "metadata": {},
   "outputs": [
    {
     "data": {
      "text/plain": [
       "RxnParametersArray (generic function with 1 method)"
      ]
     },
     "execution_count": 1,
     "metadata": {},
     "output_type": "execute_result"
    }
   ],
   "source": [
    "function RxnParametersArray(BEa, gamma, delta, alpha, beta)\n",
    " # Constants\n",
    "        T = 298.15             # temperature [K]\n",
    "        kB = 8.61733034e-5        # Boltzmann constant [eV/K]\n",
    "        h = 4.1357e-15            # Planck constant [eV-s]\n",
    "        ev = 1.602e-19            # Converts Joules to Ev\n",
    "         \n",
    "        # Unpacking Parameters\n",
    "        gamma_ab = gamma[1]\n",
    "        gamma_ac = gamma[2]\n",
    "        \n",
    "        delta_ab = delta[1]\n",
    "        delta_ac = delta[2]\n",
    "        \n",
    "        alpha_a = alpha[1]\n",
    "        alpha_b = alpha[2]\n",
    "        alpha_c = alpha[3]\n",
    "        \n",
    "        beta_a = beta[1]\n",
    "        beta_b = beta[2]\n",
    "        beta_c = beta[3]\n",
    "        \n",
    "        ## Binding Energies from linear scaling relationships\n",
    "        BEb = gamma_ab*BEa + (1-gamma_ab)*delta_ab\n",
    "        BEc = gamma_ac*BEa + (1-gamma_ac)*delta_ac\n",
    "    \n",
    "        ## Surface Reactions \n",
    "        deltaG = Vector{Float64}(undef,3)\n",
    "        deltaG[1] = - BEb - (-BEa)\n",
    "        deltaG[2] = - BEc - (-BEb)\n",
    "        deltaG[3] = - BEa - (-BEc)\n",
    "        \n",
    "        ## Activation Energies from BEP relationships\n",
    "        Ea = Vector{Float64}(undef,3)\n",
    "        Ea[1] = alpha_a*deltaG[1] + beta_a\n",
    "        Ea[2] = alpha_b*deltaG[2] + beta_b\n",
    "        Ea[3] = alpha_c*deltaG[3] + beta_c \n",
    "        Ea = max.(Ea,0)\n",
    "  \n",
    "        # Forward rate constant via transition state theory (TST)\n",
    "        kf = (kB*T/h)*exp.(-Ea/(kB*T))\n",
    "        \n",
    "        # Equilibrium constant\n",
    "        K = exp.(-deltaG/(kB*T))\n",
    "        \n",
    "        # Reverse rate constant\n",
    "        kr = kf./K\n",
    "    \n",
    "        BE = hcat(BEa, BEb, BEc)\n",
    "    \n",
    "    return kf, kr, BE, Ea\n",
    "end "
   ]
  },
  {
   "cell_type": "code",
   "execution_count": null,
   "id": "relevant-cheese",
   "metadata": {},
   "outputs": [],
   "source": [
    "function RxnTimeConstants(BEa, gamma, delta, alpha, beta)\n",
    " # Constants\n",
    "        T = 298.15             # temperature [K]\n",
    "        kB = 8.61733034e-5        # Boltzmann constant [eV/K]\n",
    "        h = 4.1357e-15            # Planck constant [eV-s]\n",
    "        ev = 1.602e-19            # Converts Joules to Ev\n",
    "         \n",
    "        # Unpacking Parameters\n",
    "        gamma_ab = gamma[1]\n",
    "        gamma_ac = gamma[2]\n",
    "        \n",
    "        delta_ab = delta[1]\n",
    "        delta_ac = delta[2]\n",
    "        \n",
    "        alpha_a = alpha[1]\n",
    "        alpha_b = alpha[2]\n",
    "        alpha_c = alpha[3]\n",
    "        \n",
    "        beta_a = beta[1]\n",
    "        beta_b = beta[2]\n",
    "        beta_c = beta[3]\n",
    "        \n",
    "        ## Binding Energies from linear scaling relationships\n",
    "        BEb = gamma_ab*BEa + (1-gamma_ab)*delta_ab\n",
    "        BEc = gamma_ac*BEa + (1-gamma_ac)*delta_ac\n",
    "    \n",
    "        ## Surface Reactions \n",
    "        deltaG = Vector{Float64}(undef,3)\n",
    "        deltaG[1] = - BEb - (-BEa)\n",
    "        deltaG[2] = - BEc - (-BEb)\n",
    "        deltaG[3] = - BEa - (-BEc)\n",
    "        \n",
    "        ## Activation Energies from BEP relationships\n",
    "        Ea = Vector{Float64}(undef,3)\n",
    "        Ea[1] = alpha_a*deltaG[1] + beta_a\n",
    "        Ea[2] = alpha_b*deltaG[2] + beta_b\n",
    "        Ea[3] = alpha_c*deltaG[3] + beta_c \n",
    "        Ea = max.(Ea,0)\n",
    "  \n",
    "        # Forward rate constant via transition state theory (TST)\n",
    "        kf = (kB*T/h)*exp.(-Ea/(kB*T))\n",
    "        \n",
    "        # Equilibrium constant\n",
    "        K = exp.(-deltaG/(kB*T))\n",
    "        \n",
    "        # Reverse rate constant\n",
    "        kr = kf./K\n",
    "    \n",
    "        BE = hcat(BEa, BEb, BEc)\n",
    "    \n",
    "    return kf, kr, BE\n",
    "end "
   ]
  },
  {
   "cell_type": "code",
   "execution_count": 4,
   "id": "annoying-sunglasses",
   "metadata": {},
   "outputs": [
    {
     "data": {
      "text/plain": [
       "alpha_matrix (generic function with 1 method)"
      ]
     },
     "execution_count": 4,
     "metadata": {},
     "output_type": "execute_result"
    }
   ],
   "source": [
    "function alpha_matrix(gamma, alpha, beta)\n",
    "     # Constants\n",
    "        T = 298.15             # temperature [K]\n",
    "        kB = 8.61733034e-5        # Boltzmann constant [eV/K]\n",
    "        h = 4.1357e-15            # Planck constant [eV-s]\n",
    "        ev = 1.602e-19            # Converts Joules to Ev\n",
    "         \n",
    "        # Unpacking Parameters\n",
    "        gamma_ab = gamma[1]\n",
    "        gamma_ac = gamma[2]\n",
    "\n",
    "        \n",
    "        alpha_a = alpha[1]\n",
    "        alpha_b = alpha[2]\n",
    "        alpha_c = alpha[3]\n",
    "        \n",
    "        beta_a = beta[1]\n",
    "        beta_b = beta[2]\n",
    "        beta_c = beta[3]\n",
    "    \n",
    "    alpha_Array = Matrix{Float64}(undef,3,3)\n",
    "    for i in range(1,3)\n",
    "        alpha_Array[i,i] = 0.0;\n",
    "    end\n",
    "    \n",
    "    # Reaction 1 A<-->B\n",
    "    alpha_Array[1,2] = (alpha_a*(1-gamma_ab))^2\n",
    "    alpha_Array[2,1] = ((1-alpha_a)*(1-gamma_ab))^2\n",
    "    \n",
    "    # Reaction 2 B<-->C\n",
    "    alpha_Array[2,3] = (alpha_b*(gamma_ab-gamma_ac))^2\n",
    "    alpha_Array[3,2] = ((1-alpha_b)*(gamma_ab-gamma_ac))^2\n",
    "    \n",
    "    # Reaction 3 C<-->A\n",
    "    alpha_Array[3,1] = (alpha_c*(gamma_ac-1))^2\n",
    "    alpha_Array[1,3] = ((1-alpha_c)*(gamma_ac-1))^2\n",
    "    \n",
    "    return alpha_Array\n",
    "end"
   ]
  },
  {
   "cell_type": "code",
   "execution_count": 2,
   "id": "private-publicity",
   "metadata": {},
   "outputs": [
    {
     "data": {
      "text/plain": [
       "Objective_Function (generic function with 1 method)"
      ]
     },
     "execution_count": 2,
     "metadata": {},
     "output_type": "execute_result"
    }
   ],
   "source": [
    "function Objective_Function(alpha_Array)\n",
    "    C = 0.0;\n",
    "    \n",
    "    for i in range(1,3)\n",
    "        for k in range(1,3) \n",
    "            if i <= k\n",
    "                C = C + (alpha_Array[i,k])^2\n",
    "            else \n",
    "                C = C - (alpha_Array[i,k])^2\n",
    "            end\n",
    "        end\n",
    "    end\n",
    "    return C\n",
    "end"
   ]
  },
  {
   "cell_type": "code",
   "execution_count": null,
   "id": "higher-enough",
   "metadata": {},
   "outputs": [],
   "source": []
  }
 ],
 "metadata": {
  "kernelspec": {
   "display_name": "Julia 1.9.0",
   "language": "julia",
   "name": "julia-1.9"
  },
  "language_info": {
   "file_extension": ".jl",
   "mimetype": "application/julia",
   "name": "julia",
   "version": "1.9.0"
  }
 },
 "nbformat": 4,
 "nbformat_minor": 5
}
